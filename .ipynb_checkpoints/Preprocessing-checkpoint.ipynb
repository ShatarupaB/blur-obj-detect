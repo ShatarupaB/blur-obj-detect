{
 "cells": [
  {
   "cell_type": "code",
   "execution_count": null,
   "id": "00ffc735-016c-470b-a958-42daa269d0dd",
   "metadata": {},
   "outputs": [],
   "source": [
    "!pip install -- tensorflow"
   ]
  },
  {
   "cell_type": "code",
   "execution_count": null,
   "id": "d4a60dbb-e438-4460-863a-081ebb5a874d",
   "metadata": {
    "scrolled": true
   },
   "outputs": [],
   "source": [
    "#!pip install --upgrade https://storage.googleapis.com/tensorflow/mac/cpu/tensorflow-1.0.0-py3-none-any.whl"
   ]
  },
  {
   "cell_type": "code",
   "execution_count": null,
   "id": "1766c8a7-ca67-4b7c-b39c-6a89cb34050a",
   "metadata": {},
   "outputs": [],
   "source": [
    "import zipfile\n",
    "import os\n",
    "import shutil\n",
    "from tensorflow.keras.preprocessing.image import load_img, img_to_array\n",
    "from PIL import Image\n",
    "import numpy as np"
   ]
  },
  {
   "cell_type": "code",
   "execution_count": null,
   "id": "179840c4-6589-41e9-9477-8f0c4f156a43",
   "metadata": {},
   "outputs": [],
   "source": [
    "zip_file_path = 'GOPRO_Large.zip'\n",
    "destination_folder = 'data_unzip'\n",
    "\n",
    "if not os.path.exists(destination_folder):\n",
    "    os.makedirs(destination_folder)\n",
    "\n",
    "with zipfile.ZipFile(zip_file_path, 'r') as zip_ref:\n",
    "    zip_ref.extractall(destination_folder)\n",
    "\n",
    "print(f\"Unzipped the contents to {destination_folder}\")"
   ]
  },
  {
   "cell_type": "code",
   "execution_count": null,
   "id": "e32e929d-285d-4e4c-a66d-0faef49250e7",
   "metadata": {},
   "outputs": [],
   "source": [
    "def organize_dataset(source_folder, output_folder):\n",
    "\n",
    "    train_dir = os.path.join(source_folder, 'train')\n",
    "    test_dir = os.path.join(source_folder, 'test')\n",
    "\n",
    "    organized_train = os.path.join(output_folder, 'train')\n",
    "    organized_test = os.path.join(output_folder, 'test')\n",
    "    \n",
    "    os.makedirs(organized_train, exist_ok=True)\n",
    "    os.makedirs(organized_test, exist_ok=True)\n",
    "\n",
    "    def process_subfolder(subfolder_path, output_dir):\n",
    "        blur_folder = os.path.join(subfolder_path, 'blur')\n",
    "        sharp_folder = os.path.join(subfolder_path, 'sharp')\n",
    "        \n",
    "        blur_output = os.path.join(output_dir, 'blur')\n",
    "        sharp_output = os.path.join(output_dir, 'sharp')\n",
    "        \n",
    "        os.makedirs(blur_output, exist_ok=True)\n",
    "        os.makedirs(sharp_output, exist_ok=True)\n",
    "        \n",
    "        for folder, output in [(blur_folder, blur_output), (sharp_folder, sharp_output)]:\n",
    "            for image in os.listdir(folder):\n",
    "                image_path = os.path.join(folder, image)\n",
    "                if os.path.isfile(image_path):\n",
    "                    shutil.move(image_path, os.path.join(output, image))\n",
    "\n",
    "    for subfolder in os.listdir(train_dir):\n",
    "        subfolder_path = os.path.join(train_dir, subfolder)\n",
    "        if os.path.isdir(subfolder_path):\n",
    "            process_subfolder(subfolder_path, organized_train)\n",
    "\n",
    "    for subfolder in os.listdir(test_dir):\n",
    "        subfolder_path = os.path.join(test_dir, subfolder)\n",
    "        if os.path.isdir(subfolder_path):\n",
    "            process_subfolder(subfolder_path, organized_test)\n",
    "    \n",
    "    print(\"Dataset organized successfully.\")\n",
    "\n",
    "organize_dataset('data_unzip','final_data_512')"
   ]
  },
  {
   "cell_type": "code",
   "execution_count": null,
   "id": "17712170-36ad-4c6f-b399-88bdca89d18a",
   "metadata": {},
   "outputs": [],
   "source": [
    "root_dir = 'final_data_512'\n",
    "\n",
    "for split in ['train', 'test']:\n",
    "    split_dir = os.path.join(root_dir, split)\n",
    "    \n",
    "    for category in ['blur', 'sharp']:\n",
    "        category_dir = os.path.join(split_dir, category)\n",
    "        \n",
    "        for image_name in os.listdir(category_dir):\n",
    "            image_path = os.path.join(category_dir, image_name)\n",
    "            \n",
    "            if os.path.isdir(image_path) and image_name == \".ipynb_checkpoints\":\n",
    "                continue\n",
    "            \n",
    "            with Image.open(image_path) as img:\n",
    "                #img_resized = img.resize((256, 256))\n",
    "                img_resized = img.resize((512, 512))\n",
    "                img_array = np.array(img_resized).astype(np.float32)\n",
    "                img_normalized = img_array / 255.0\n",
    "                img_final = Image.fromarray((img_normalized * 255).astype(np.uint8))\n",
    "                img_final.save(image_path)\n",
    "\n",
    "print(\"All images normalized successfully.\")"
   ]
  }
 ],
 "metadata": {
  "kernelspec": {
   "display_name": "Python [conda env:base] *",
   "language": "python",
   "name": "conda-base-py"
  },
  "language_info": {
   "codemirror_mode": {
    "name": "ipython",
    "version": 3
   },
   "file_extension": ".py",
   "mimetype": "text/x-python",
   "name": "python",
   "nbconvert_exporter": "python",
   "pygments_lexer": "ipython3",
   "version": "3.13.5"
  }
 },
 "nbformat": 4,
 "nbformat_minor": 5
}
