{
 "cells": [
  {
   "cell_type": "code",
   "execution_count": null,
   "id": "964cac05-9c63-477c-a216-eb9061356c4f",
   "metadata": {},
   "outputs": [],
   "source": [
    "!pip install roboflow"
   ]
  },
  {
   "cell_type": "code",
   "execution_count": 5,
   "id": "4d14cec1-79cf-4e14-a431-84f64933aaa3",
   "metadata": {},
   "outputs": [],
   "source": [
    "from roboflow import Roboflow"
   ]
  },
  {
   "cell_type": "code",
   "execution_count": null,
   "id": "0aa31e94-ed70-4ae6-85de-5275c0195d59",
   "metadata": {},
   "outputs": [],
   "source": [
    "ROBOFLOW_API_KEY = userdata.get('ROBOFLOW_API_KEY') #use API key corresponding to dataset on Roboflow \n",
    "rf = Roboflow(api_key=ROBOFLOW_API_KEY)\n",
    "\n",
    "workspace = rf.workspace(\"workspace-ID\") #enter workspace ID\n",
    "project = workspace.project(\"project-ID\") #enter project ID\n",
    "version = project.version(1)  #enter version number\n",
    "dataset = version.download(\"yolov11\") #or \"yolov12\" as per requirements"
   ]
  },
  {
   "cell_type": "code",
   "execution_count": null,
   "id": "e81b7632-4bc8-4ec2-8560-7bd4db786c20",
   "metadata": {},
   "outputs": [],
   "source": [
    "!ls final_data_512/runs/detect/train/"
   ]
  }
 ],
 "metadata": {
  "kernelspec": {
   "display_name": "Python [conda env:base] *",
   "language": "python",
   "name": "conda-base-py"
  },
  "language_info": {
   "codemirror_mode": {
    "name": "ipython",
    "version": 3
   },
   "file_extension": ".py",
   "mimetype": "text/x-python",
   "name": "python",
   "nbconvert_exporter": "python",
   "pygments_lexer": "ipython3",
   "version": "3.13.5"
  }
 },
 "nbformat": 4,
 "nbformat_minor": 5
}
