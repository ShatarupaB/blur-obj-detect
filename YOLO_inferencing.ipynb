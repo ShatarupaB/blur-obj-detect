{
 "cells": [
  {
   "cell_type": "code",
   "execution_count": null,
   "id": "8e488027-3390-4d7a-b455-8c4c08d197a5",
   "metadata": {},
   "outputs": [],
   "source": [
    "!pip install inference"
   ]
  },
  {
   "cell_type": "code",
   "execution_count": null,
   "id": "c467b590-aed9-48ae-bc01-5ecd43a1eb2e",
   "metadata": {},
   "outputs": [],
   "source": [
    "from inference import get_model\n",
    "import supervision as sv\n",
    "import cv2\n",
    "import inference\n",
    "from PIL import Image\n"
   ]
  },
  {
   "cell_type": "code",
   "execution_count": null,
   "id": "f3013f19-78e0-4e21-ae33-1d571065dd73",
   "metadata": {},
   "outputs": [],
   "source": [
    "image_file = \"img.png\"\n",
    "image = cv2.imread(image_file)"
   ]
  },
  {
   "cell_type": "code",
   "execution_count": null,
   "id": "40e9ee9e-dd4f-4e90-aa24-6710fb88ac2e",
   "metadata": {},
   "outputs": [],
   "source": [
    "model = get_model(\"project-ID\", \"API-key\") "
   ]
  },
  {
   "cell_type": "code",
   "execution_count": null,
   "id": "d7690ebd-bd08-4ba2-8a83-413ad002e8e7",
   "metadata": {},
   "outputs": [],
   "source": [
    "results = model.infer(image)[0]\n",
    "detections = sv.Detections.from_inference(results)\n",
    "bounding_boxes = detections.xyxy"
   ]
  },
  {
   "cell_type": "code",
   "execution_count": null,
   "id": "9c66ff1c-afe4-406f-8001-c0fdddbafe81",
   "metadata": {},
   "outputs": [],
   "source": [
    "bounding_box_annotator = sv.BoxAnnotator()\n",
    "label_annotator = sv.LabelAnnotator(text_scale=0.25, text_padding=2)\n",
    "labels = [str(i+1) for i in range(len(detections))]"
   ]
  },
  {
   "cell_type": "code",
   "execution_count": null,
   "id": "72f3d74d-d172-4811-8837-6e4e5528ff63",
   "metadata": {},
   "outputs": [],
   "source": [
    "annotated_image = bounding_box_annotator.annotate(scene=image, detections=detections)\n",
    "annotated_image = label_annotator.annotate(scene=annotated_image, detections=detections, labels=labels)\n",
    "sv.plot_image(annotated_image)"
   ]
  },
  {
   "cell_type": "code",
   "execution_count": null,
   "id": "af122619-ba1c-4386-a625-db76587155ee",
   "metadata": {},
   "outputs": [],
   "source": []
  }
 ],
 "metadata": {
  "kernelspec": {
   "display_name": "Python [conda env:base] *",
   "language": "python",
   "name": "conda-base-py"
  },
  "language_info": {
   "codemirror_mode": {
    "name": "ipython",
    "version": 3
   },
   "file_extension": ".py",
   "mimetype": "text/x-python",
   "name": "python",
   "nbconvert_exporter": "python",
   "pygments_lexer": "ipython3",
   "version": "3.13.5"
  }
 },
 "nbformat": 4,
 "nbformat_minor": 5
}
